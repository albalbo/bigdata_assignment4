{
 "cells": [
  {
   "cell_type": "code",
   "execution_count": 4,
   "metadata": {},
   "outputs": [
    {
     "name": "stdout",
     "output_type": "stream",
     "text": [
      "Collecting BeautifulSoup4\n",
      "  Downloading https://files.pythonhosted.org/packages/1a/b7/34eec2fe5a49718944e215fde81288eec1fa04638aa3fb57c1c6cd0f98c3/beautifulsoup4-4.8.0-py3-none-any.whl (97kB)\n",
      "Collecting soupsieve>=1.2 (from BeautifulSoup4)\n",
      "  Downloading https://files.pythonhosted.org/packages/0b/44/0474f2207fdd601bb25787671c81076333d2c80e6f97e92790f8887cf682/soupsieve-1.9.3-py2.py3-none-any.whl\n",
      "Installing collected packages: soupsieve, BeautifulSoup4\n",
      "Successfully installed BeautifulSoup4-4.8.0 soupsieve-1.9.3\n"
     ]
    }
   ],
   "source": [
    "import pip\n",
    "if int(pip.__version__.split('.')[0])>9:\n",
    "    from pip._internal import main\n",
    "else:\n",
    "    from pip import main\n",
    "def install(package):\n",
    "    main(['install',package])\n",
    "\n",
    "    \n",
    "install('BeautifulSoup4')\n",
    "        "
   ]
  },
  {
   "cell_type": "markdown",
   "metadata": {},
   "source": [
    "1.(a) \n",
    "\n",
    "Jaccard distance is the complement of jaccard index\n",
    "It can be found by subtracting jaccard index from 1.\n",
    "\n",
    "Jaccard Index:\n",
    "    \n",
    "    A=(1,1,0,1,1,0,1,1)\n",
    "    B=(0,1,1,1,1,1,1,0)\n",
    "    C=(1,0,1,1,0,1,1,1)\n",
    "    \n",
    " J(X,Y)= |X∩Y| / |X∪Y|\n",
    " \n",
    "  J(A,B) = |A∩B| / |A∪B|\n",
    "         = 4/8\n",
    "         = 0.5\n",
    "  \n",
    "  J(B,C) = |B∩C| / |B∪C|\n",
    "         = 4/8\n",
    "         = 0.5\n",
    "         \n",
    "  J(A,C) = |A∩C| / |A∪C|\n",
    "         = 4/8\n",
    "         = 0.5\n",
    "\n",
    "Jaccard Distance:\n",
    "    JD = 1-J\n",
    "    \n",
    "    J(A,B)=0.5\n",
    "    J(B,C)=0.5\n",
    "    J(C,A)=0.5"
   ]
  },
  {
   "cell_type": "raw",
   "metadata": {},
   "source": [
    "1.(b)\n",
    "\n",
    "Cosine Distance:\n",
    "\n",
    "    CD(A,B) = Dot product of A and B /(magnitude of A * magnitude of B)\n",
    "    \n",
    "\n",
    "a=(1,1,0,1,1,0,1,1)\n",
    "b=(0,1,1,1,1,1,1,0)\n",
    "c=(1,0,1,1,0,1,1,1)\n",
    "\n"
   ]
  },
  {
   "cell_type": "code",
   "execution_count": 4,
   "metadata": {},
   "outputs": [
    {
     "name": "stdout",
     "output_type": "stream",
     "text": [
      "0.6666666666666667\n",
      "0.6666666666666667\n",
      "0.6666666666666667\n"
     ]
    }
   ],
   "source": [
    "import numpy as np\n",
    "from sklearn.metrics.pairwise import cosine_similarity\n",
    "\n",
    "a = np.array([1,1,0,1,1,0,1,1])\n",
    "b = np.array([0,1,1,1,1,1,1,0])\n",
    "c = np.array([1,0,1,1,0,1,1,1])\n",
    "\n",
    "\n",
    "#cosine similarity\n",
    "def cosdist(x,y):\n",
    "    dot = np.dot(x, y)\n",
    "    norma = np.linalg.norm(x)\n",
    "    normb = np.linalg.norm(y)\n",
    "    cos = dot / (norma * normb)\n",
    "    return cos\n",
    "\n",
    " \n",
    "print(cosdist(a,b))\n",
    "print(cosdist(b,c))\n",
    "print(cosdist(c,a))\n"
   ]
  },
  {
   "cell_type": "raw",
   "metadata": {},
   "source": [
    "1.(c)\n",
    "Finding jaccard distance between the vectors by considering 3,4,5 as 1 and 1,2 as 0.\n",
    "\n",
    "A=(1,1,0,1,0,0,1,0) \n",
    "B=(0,1,1,1,0,0,0,0) \n",
    "C=(0,0,0,1,0,1,1,1)\n",
    "\n",
    "\n",
    "J(X,Y)= |X∩Y| / |X∪Y|\n",
    " \n",
    "  J(A,B) = |A∩B| / |A∪B|\n",
    "         = 2/5\n",
    "         = 0.4\n",
    "  \n",
    "  J(B,C) = |B∩C| / |B∪C|\n",
    "         = 1/6\n",
    "         = 0.166\n",
    "         \n",
    "  J(A,C) = |A∩C| / |A∪C|\n",
    "         = 2/6\n",
    "         = 0.333\n",
    "\n",
    "Jaccard Distance:\n",
    "    JD = 1-J\n",
    "    \n",
    "    J(A,B)=0.6\n",
    "    J(B,C)=0.834\n",
    "    J(C,A)=0.667"
   ]
  },
  {
   "cell_type": "raw",
   "metadata": {},
   "source": [
    "1.(d)\n"
   ]
  },
  {
   "cell_type": "code",
   "execution_count": 8,
   "metadata": {},
   "outputs": [
    {
     "name": "stdout",
     "output_type": "stream",
     "text": [
      "0.5773502691896258\n",
      "0.2886751345948129\n",
      "0.5\n"
     ]
    }
   ],
   "source": [
    "import numpy as np\n",
    "from sklearn.metrics.pairwise import cosine_similarity\n",
    "\n",
    "a = np.array([1,1,0,1,0,0,1,0])\n",
    "b = np.array([0,1,1,1,0,0,0,0])\n",
    "c = np.array([0,0,0,1,0,1,1,1])\n",
    "\n",
    "\n",
    "#cosine similarity\n",
    "def cosdist(x,y):\n",
    "    dot = np.dot(x, y)\n",
    "    norma = np.linalg.norm(x)\n",
    "    normb = np.linalg.norm(y)\n",
    "    cos = dot /float(norma * normb)\n",
    "    print(cos)\n",
    "    \n",
    "\n",
    "cosdist(a,b)\n",
    "cosdist(b,c)\n",
    "cosdist(c,a)"
   ]
  },
  {
   "cell_type": "raw",
   "metadata": {},
   "source": [
    "1.(e)\n",
    "\n",
    "Normalizing the matrix:\n",
    "\n",
    "    { 0.5  0.5   -0.5  0.5   -0.5   -0.5    0.5   -0.5 \n",
    "    -0.375 0.625 0.625 0.625 -0.375 -0.375 -0.375 -0.375\n",
    "    -0.5   -0.5  -0.5  0.5   -0.5    0.5    0.5    0.5 }"
   ]
  },
  {
   "cell_type": "raw",
   "metadata": {},
   "source": [
    "1.(f)\n",
    "cosine distance using the normalised matrix"
   ]
  },
  {
   "cell_type": "code",
   "execution_count": 9,
   "metadata": {},
   "outputs": [
    {
     "name": "stdout",
     "output_type": "stream",
     "text": [
      "0.2581988897471611\n",
      "-0.2581988897471611\n",
      "0.0\n"
     ]
    }
   ],
   "source": [
    "import numpy as np\n",
    "from sklearn.metrics.pairwise import cosine_similarity\n",
    "\n",
    "a = np.array([0.5,0.5,-0.5,0.5,-0.5,-0.5,0.5,-0.5])\n",
    "b = np.array([-0.375, 0.625, 0.625, 0.625, -0.375, -0.375, -0.375, -0.375])\n",
    "c = np.array([-0.5, -0.5,-0.5, 0.5, -0.5,0.5, 0.5, 0.5 ])\n",
    "\n",
    "\n",
    "#cosine similarity\n",
    "def cosdist(x,y):\n",
    "    dot = np.dot(x, y)\n",
    "    norma = np.linalg.norm(x)\n",
    "    normb = np.linalg.norm(y)\n",
    "    cos = dot /float(norma * normb)\n",
    "    print(cos)\n",
    "    \n",
    "\n",
    "cosdist(a,b)\n",
    "cosdist(b,c)\n",
    "cosdist(c,a)"
   ]
  },
  {
   "cell_type": "raw",
   "metadata": {},
   "source": [
    "\n",
    "\n",
    "2.\n",
    "\n",
    "Load the Movielens 100k dataset (ml-100k.zip) into Python using Pandas dataframes. Build a user profile on unscaled data for both users 200 and 15, and calculate the cosine similarity and distance between the user’s preferences and the item/movie 95. Which user would a recommender system suggest this movie to?\n",
    "dataset: https://grouplens.org/datasets/movielens/100k/"
   ]
  },
  {
   "cell_type": "code",
   "execution_count": 5,
   "metadata": {},
   "outputs": [
    {
     "name": "stderr",
     "output_type": "stream",
     "text": [
      "b'Skipping line 12: expected 1 fields, saw 3\\nSkipping line 14: expected 1 fields, saw 3\\nSkipping line 18: expected 1 fields, saw 2\\nSkipping line 25: expected 1 fields, saw 3\\nSkipping line 26: expected 1 fields, saw 3\\nSkipping line 34: expected 1 fields, saw 3\\nSkipping line 38: expected 1 fields, saw 3\\nSkipping line 40: expected 1 fields, saw 3\\nSkipping line 52: expected 1 fields, saw 3\\nSkipping line 55: expected 1 fields, saw 2\\nSkipping line 63: expected 1 fields, saw 3\\nSkipping line 64: expected 1 fields, saw 3\\nSkipping line 68: expected 1 fields, saw 3\\nSkipping line 71: expected 1 fields, saw 3\\nSkipping line 72: expected 1 fields, saw 3\\nSkipping line 77: expected 1 fields, saw 3\\nSkipping line 79: expected 1 fields, saw 3\\nSkipping line 81: expected 1 fields, saw 3\\nSkipping line 85: expected 1 fields, saw 3\\nSkipping line 86: expected 1 fields, saw 3\\nSkipping line 91: expected 1 fields, saw 3\\nSkipping line 98: expected 1 fields, saw 3\\nSkipping line 102: expected 1 fields, saw 3\\nSkipping line 111: expected 1 fields, saw 3\\nSkipping line 113: expected 1 fields, saw 4\\nSkipping line 115: expected 1 fields, saw 3\\nSkipping line 117: expected 1 fields, saw 3\\nSkipping line 122: expected 1 fields, saw 3\\nSkipping line 123: expected 1 fields, saw 3\\nSkipping line 126: expected 1 fields, saw 3\\nSkipping line 127: expected 1 fields, saw 3\\nSkipping line 132: expected 1 fields, saw 3\\nSkipping line 139: expected 1 fields, saw 3\\nSkipping line 141: expected 1 fields, saw 3\\nSkipping line 143: expected 1 fields, saw 3\\nSkipping line 145: expected 1 fields, saw 3\\nSkipping line 147: expected 1 fields, saw 3\\nSkipping line 148: expected 1 fields, saw 3\\nSkipping line 153: expected 1 fields, saw 3\\nSkipping line 163: expected 1 fields, saw 3\\nSkipping line 164: expected 1 fields, saw 3\\nSkipping line 169: expected 1 fields, saw 3\\nSkipping line 172: expected 1 fields, saw 3\\nSkipping line 173: expected 1 fields, saw 3\\nSkipping line 177: expected 1 fields, saw 6\\nSkipping line 179: expected 1 fields, saw 3\\nSkipping line 186: expected 1 fields, saw 3\\nSkipping line 187: expected 1 fields, saw 3\\nSkipping line 189: expected 1 fields, saw 3\\nSkipping line 193: expected 1 fields, saw 3\\nSkipping line 194: expected 1 fields, saw 3\\nSkipping line 195: expected 1 fields, saw 3\\nSkipping line 197: expected 1 fields, saw 3\\nSkipping line 199: expected 1 fields, saw 3\\nSkipping line 200: expected 1 fields, saw 3\\nSkipping line 212: expected 1 fields, saw 3\\nSkipping line 213: expected 1 fields, saw 3\\nSkipping line 219: expected 1 fields, saw 3\\nSkipping line 220: expected 1 fields, saw 3\\nSkipping line 241: expected 1 fields, saw 3\\nSkipping line 245: expected 1 fields, saw 2\\nSkipping line 250: expected 1 fields, saw 2\\nSkipping line 252: expected 1 fields, saw 2\\nSkipping line 253: expected 1 fields, saw 2\\nSkipping line 265: expected 1 fields, saw 2\\nSkipping line 269: expected 1 fields, saw 2\\nSkipping line 281: expected 1 fields, saw 3\\nSkipping line 282: expected 1 fields, saw 3\\nSkipping line 286: expected 1 fields, saw 3\\nSkipping line 296: expected 1 fields, saw 2\\nSkipping line 305: expected 1 fields, saw 2\\nSkipping line 306: expected 1 fields, saw 2\\nSkipping line 307: expected 1 fields, saw 3\\nSkipping line 310: expected 1 fields, saw 3\\nSkipping line 311: expected 1 fields, saw 2\\nSkipping line 331: expected 1 fields, saw 2\\nSkipping line 333: expected 1 fields, saw 2\\nSkipping line 337: expected 1 fields, saw 3\\nSkipping line 342: expected 1 fields, saw 2\\nSkipping line 344: expected 1 fields, saw 2\\nSkipping line 351: expected 1 fields, saw 2\\nSkipping line 354: expected 1 fields, saw 2\\nSkipping line 356: expected 1 fields, saw 3\\nSkipping line 359: expected 1 fields, saw 2\\nSkipping line 371: expected 1 fields, saw 3\\nSkipping line 382: expected 1 fields, saw 5\\nSkipping line 383: expected 1 fields, saw 3\\nSkipping line 387: expected 1 fields, saw 3\\nSkipping line 392: expected 1 fields, saw 3\\nSkipping line 399: expected 1 fields, saw 3\\nSkipping line 400: expected 1 fields, saw 3\\nSkipping line 401: expected 1 fields, saw 3\\nSkipping line 408: expected 1 fields, saw 3\\nSkipping line 411: expected 1 fields, saw 3\\nSkipping line 412: expected 1 fields, saw 3\\nSkipping line 415: expected 1 fields, saw 3\\nSkipping line 417: expected 1 fields, saw 3\\nSkipping line 426: expected 1 fields, saw 3\\nSkipping line 429: expected 1 fields, saw 3\\nSkipping line 436: expected 1 fields, saw 3\\nSkipping line 441: expected 1 fields, saw 3\\nSkipping line 442: expected 1 fields, saw 3\\nSkipping line 443: expected 1 fields, saw 3\\nSkipping line 444: expected 1 fields, saw 3\\nSkipping line 445: expected 1 fields, saw 3\\nSkipping line 448: expected 1 fields, saw 3\\nSkipping line 459: expected 1 fields, saw 3\\nSkipping line 460: expected 1 fields, saw 3\\nSkipping line 463: expected 1 fields, saw 3\\nSkipping line 465: expected 1 fields, saw 3\\nSkipping line 467: expected 1 fields, saw 3\\nSkipping line 476: expected 1 fields, saw 3\\nSkipping line 478: expected 1 fields, saw 3\\nSkipping line 481: expected 1 fields, saw 3\\nSkipping line 484: expected 1 fields, saw 3\\nSkipping line 491: expected 1 fields, saw 3\\nSkipping line 493: expected 1 fields, saw 3\\nSkipping line 498: expected 1 fields, saw 3\\nSkipping line 503: expected 1 fields, saw 3\\nSkipping line 507: expected 1 fields, saw 3\\nSkipping line 508: expected 1 fields, saw 3\\nSkipping line 510: expected 1 fields, saw 2\\nSkipping line 512: expected 1 fields, saw 2\\nSkipping line 513: expected 1 fields, saw 3\\nSkipping line 515: expected 1 fields, saw 3\\nSkipping line 519: expected 1 fields, saw 3\\nSkipping line 520: expected 1 fields, saw 3\\nSkipping line 521: expected 1 fields, saw 3\\nSkipping line 524: expected 1 fields, saw 3\\nSkipping line 525: expected 1 fields, saw 3\\nSkipping line 528: expected 1 fields, saw 3\\nSkipping line 530: expected 1 fields, saw 3\\nSkipping line 533: expected 1 fields, saw 2\\nSkipping line 543: expected 1 fields, saw 2\\nSkipping line 547: expected 1 fields, saw 3\\nSkipping line 548: expected 1 fields, saw 3\\nSkipping line 553: expected 1 fields, saw 3\\nSkipping line 560: expected 1 fields, saw 3\\nSkipping line 562: expected 1 fields, saw 3\\nSkipping line 563: expected 1 fields, saw 2\\nSkipping line 580: expected 1 fields, saw 5\\nSkipping line 582: expected 1 fields, saw 3\\nSkipping line 584: expected 1 fields, saw 3\\nSkipping line 587: expected 1 fields, saw 3\\nSkipping line 589: expected 1 fields, saw 3\\nSkipping line 595: expected 1 fields, saw 3\\nSkipping line 596: expected 1 fields, saw 3\\nSkipping line 598: expected 1 fields, saw 3\\nSkipping line 602: expected 1 fields, saw 3\\nSkipping line 615: expected 1 fields, saw 3\\nSkipping line 617: expected 1 fields, saw 4\\nSkipping line 620: expected 1 fields, saw 3\\nSkipping line 621: expected 1 fields, saw 2\\nSkipping line 624: expected 1 fields, saw 3\\nSkipping line 625: expected 1 fields, saw 3\\nSkipping line 630: expected 1 fields, saw 3\\nSkipping line 631: expected 1 fields, saw 3\\nSkipping line 633: expected 1 fields, saw 3\\nSkipping line 635: expected 1 fields, saw 3\\nSkipping line 637: expected 1 fields, saw 3\\nSkipping line 638: expected 1 fields, saw 4\\nSkipping line 639: expected 1 fields, saw 4\\nSkipping line 640: expected 1 fields, saw 3\\nSkipping line 642: expected 1 fields, saw 3\\nSkipping line 643: expected 1 fields, saw 2\\nSkipping line 644: expected 1 fields, saw 3\\nSkipping line 648: expected 1 fields, saw 3\\nSkipping line 650: expected 1 fields, saw 4\\nSkipping line 657: expected 1 fields, saw 3\\nSkipping line 664: expected 1 fields, saw 3\\nSkipping line 675: expected 1 fields, saw 3\\nSkipping line 676: expected 1 fields, saw 3\\nSkipping line 686: expected 1 fields, saw 3\\nSkipping line 689: expected 1 fields, saw 2\\nSkipping line 692: expected 1 fields, saw 3\\nSkipping line 697: expected 1 fields, saw 3\\nSkipping line 698: expected 1 fields, saw 3\\nSkipping line 701: expected 1 fields, saw 4\\nSkipping line 704: expected 1 fields, saw 3\\nSkipping line 708: expected 1 fields, saw 5\\nSkipping line 711: expected 1 fields, saw 3\\nSkipping line 717: expected 1 fields, saw 3\\nSkipping line 730: expected 1 fields, saw 3\\nSkipping line 731: expected 1 fields, saw 3\\nSkipping line 741: expected 1 fields, saw 3\\nSkipping line 743: expected 1 fields, saw 2\\nSkipping line 745: expected 1 fields, saw 3\\nSkipping line 748: expected 1 fields, saw 2\\nSkipping line 749: expected 1 fields, saw 2\\nSkipping line 752: expected 1 fields, saw 2\\nSkipping line 767: expected 1 fields, saw 3\\nSkipping line 774: expected 1 fields, saw 3\\nSkipping line 786: expected 1 fields, saw 3\\nSkipping line 791: expected 1 fields, saw 3\\nSkipping line 801: expected 1 fields, saw 3\\nSkipping line 808: expected 1 fields, saw 3\\nSkipping line 810: expected 1 fields, saw 3\\nSkipping line 813: expected 1 fields, saw 3\\nSkipping line 814: expected 1 fields, saw 3\\nSkipping line 824: expected 1 fields, saw 3\\nSkipping line 825: expected 1 fields, saw 3\\nSkipping line 826: expected 1 fields, saw 3\\nSkipping line 835: expected 1 fields, saw 2\\nSkipping line 841: expected 1 fields, saw 3\\nSkipping line 843: expected 1 fields, saw 3\\nSkipping line 848: expected 1 fields, saw 3\\nSkipping line 850: expected 1 fields, saw 3\\nSkipping line 852: expected 1 fields, saw 2\\nSkipping line 860: expected 1 fields, saw 3\\nSkipping line 863: expected 1 fields, saw 4\\nSkipping line 865: expected 1 fields, saw 2\\nSkipping line 867: expected 1 fields, saw 3\\nSkipping line 879: expected 1 fields, saw 2\\nSkipping line 886: expected 1 fields, saw 3\\nSkipping line 889: expected 1 fields, saw 3\\nSkipping line 896: expected 1 fields, saw 2\\nSkipping line 898: expected 1 fields, saw 2\\nSkipping line 899: expected 1 fields, saw 2\\nSkipping line 902: expected 1 fields, saw 2\\nSkipping line 919: expected 1 fields, saw 3\\nSkipping line 927: expected 1 fields, saw 4\\nSkipping line 928: expected 1 fields, saw 3\\nSkipping line 931: expected 1 fields, saw 3\\nSkipping line 933: expected 1 fields, saw 3\\nSkipping line 934: expected 1 fields, saw 3\\nSkipping line 937: expected 1 fields, saw 2\\nSkipping line 938: expected 1 fields, saw 2\\nSkipping line 946: expected 1 fields, saw 3\\nSkipping line 947: expected 1 fields, saw 4\\nSkipping line 951: expected 1 fields, saw 3\\nSkipping line 964: expected 1 fields, saw 3\\nSkipping line 966: expected 1 fields, saw 3\\nSkipping line 968: expected 1 fields, saw 3\\nSkipping line 977: expected 1 fields, saw 3\\nSkipping line 979: expected 1 fields, saw 3\\nSkipping line 983: expected 1 fields, saw 3\\nSkipping line 988: expected 1 fields, saw 3\\nSkipping line 994: expected 1 fields, saw 2\\nSkipping line 995: expected 1 fields, saw 2\\nSkipping line 996: expected 1 fields, saw 3\\nSkipping line 1001: expected 1 fields, saw 3\\nSkipping line 1002: expected 1 fields, saw 3\\nSkipping line 1005: expected 1 fields, saw 3\\nSkipping line 1019: expected 1 fields, saw 2\\nSkipping line 1022: expected 1 fields, saw 3\\nSkipping line 1026: expected 1 fields, saw 2\\nSkipping line 1027: expected 1 fields, saw 3\\nSkipping line 1030: expected 1 fields, saw 3\\nSkipping line 1034: expected 1 fields, saw 3\\nSkipping line 1044: expected 1 fields, saw 3\\nSkipping line 1050: expected 1 fields, saw 3\\nSkipping line 1051: expected 1 fields, saw 3\\nSkipping line 1055: expected 1 fields, saw 3\\nSkipping line 1057: expected 1 fields, saw 3\\nSkipping line 1058: expected 1 fields, saw 3\\nSkipping line 1060: expected 1 fields, saw 3\\nSkipping line 1061: expected 1 fields, saw 3\\nSkipping line 1063: expected 1 fields, saw 3\\nSkipping line 1068: expected 1 fields, saw 4\\nSkipping line 1072: expected 1 fields, saw 3\\nSkipping line 1075: expected 1 fields, saw 3\\nSkipping line 1076: expected 1 fields, saw 3\\nSkipping line 1094: expected 1 fields, saw 3\\nSkipping line 1097: expected 1 fields, saw 3\\nSkipping line 1099: expected 1 fields, saw 2\\nSkipping line 1106: expected 1 fields, saw 3\\nSkipping line 1116: expected 1 fields, saw 3\\nSkipping line 1121: expected 1 fields, saw 4\\nSkipping line 1123: expected 1 fields, saw 3\\nSkipping line 1124: expected 1 fields, saw 3\\nSkipping line 1125: expected 1 fields, saw 3\\nSkipping line 1126: expected 1 fields, saw 3\\nSkipping line 1127: expected 1 fields, saw 3\\nSkipping line 1135: expected 1 fields, saw 3\\nSkipping line 1140: expected 1 fields, saw 3\\nSkipping line 1141: expected 1 fields, saw 3\\nSkipping line 1144: expected 1 fields, saw 2\\nSkipping line 1155: expected 1 fields, saw 3\\nSkipping line 1157: expected 1 fields, saw 3\\nSkipping line 1158: expected 1 fields, saw 3\\nSkipping line 1163: expected 1 fields, saw 2\\nSkipping line 1167: expected 1 fields, saw 3\\nSkipping line 1172: expected 1 fields, saw 3\\nSkipping line 1181: expected 1 fields, saw 3\\nSkipping line 1183: expected 1 fields, saw 3\\nSkipping line 1184: expected 1 fields, saw 3\\nSkipping line 1186: expected 1 fields, saw 3\\nSkipping line 1191: expected 1 fields, saw 2\\nSkipping line 1192: expected 1 fields, saw 3\\nSkipping line 1196: expected 1 fields, saw 3\\nSkipping line 1197: expected 1 fields, saw 3\\nSkipping line 1202: expected 1 fields, saw 4\\nSkipping line 1205: expected 1 fields, saw 3\\nSkipping line 1219: expected 1 fields, saw 3\\nSkipping line 1224: expected 1 fields, saw 3\\nSkipping line 1227: expected 1 fields, saw 3\\nSkipping line 1235: expected 1 fields, saw 2\\nSkipping line 1236: expected 1 fields, saw 2\\nSkipping line 1241: expected 1 fields, saw 2\\nSkipping line 1242: expected 1 fields, saw 4\\nSkipping line 1252: expected 1 fields, saw 2\\nSkipping line 1253: expected 1 fields, saw 3\\nSkipping line 1256: expected 1 fields, saw 2\\nSkipping line 1257: expected 1 fields, saw 2\\nSkipping line 1261: expected 1 fields, saw 3\\nSkipping line 1282: expected 1 fields, saw 3\\nSkipping line 1292: expected 1 fields, saw 2\\nSkipping line 1298: expected 1 fields, saw 3\\nSkipping line 1303: expected 1 fields, saw 3\\nSkipping line 1309: expected 1 fields, saw 3\\nSkipping line 1310: expected 1 fields, saw 3\\nSkipping line 1312: expected 1 fields, saw 3\\nSkipping line 1316: expected 1 fields, saw 2\\nSkipping line 1317: expected 1 fields, saw 3\\nSkipping line 1319: expected 1 fields, saw 3\\nSkipping line 1323: expected 1 fields, saw 2\\nSkipping line 1329: expected 1 fields, saw 3\\nSkipping line 1331: expected 1 fields, saw 3\\nSkipping line 1340: expected 1 fields, saw 3\\nSkipping line 1342: expected 1 fields, saw 4\\nSkipping line 1344: expected 1 fields, saw 3\\nSkipping line 1345: expected 1 fields, saw 2\\nSkipping line 1347: expected 1 fields, saw 2\\nSkipping line 1360: expected 1 fields, saw 3\\nSkipping line 1361: expected 1 fields, saw 3\\nSkipping line 1363: expected 1 fields, saw 3\\nSkipping line 1369: expected 1 fields, saw 3\\nSkipping line 1371: expected 1 fields, saw 3\\nSkipping line 1372: expected 1 fields, saw 3\\nSkipping line 1375: expected 1 fields, saw 3\\nSkipping line 1382: expected 1 fields, saw 2\\nSkipping line 1383: expected 1 fields, saw 2\\nSkipping line 1390: expected 1 fields, saw 2\\nSkipping line 1392: expected 1 fields, saw 2\\nSkipping line 1402: expected 1 fields, saw 2\\nSkipping line 1407: expected 1 fields, saw 3\\nSkipping line 1409: expected 1 fields, saw 3\\nSkipping line 1415: expected 1 fields, saw 3\\nSkipping line 1417: expected 1 fields, saw 2\\nSkipping line 1418: expected 1 fields, saw 2\\nSkipping line 1423: expected 1 fields, saw 3\\nSkipping line 1432: expected 1 fields, saw 3\\nSkipping line 1435: expected 1 fields, saw 3\\nSkipping line 1442: expected 1 fields, saw 3\\nSkipping line 1446: expected 1 fields, saw 3\\nSkipping line 1455: expected 1 fields, saw 3\\nSkipping line 1458: expected 1 fields, saw 3\\nSkipping line 1462: expected 1 fields, saw 3\\nSkipping line 1463: expected 1 fields, saw 2\\nSkipping line 1464: expected 1 fields, saw 3\\nSkipping line 1467: expected 1 fields, saw 3\\nSkipping line 1468: expected 1 fields, saw 3\\nSkipping line 1472: expected 1 fields, saw 4\\nSkipping line 1473: expected 1 fields, saw 3\\nSkipping line 1482: expected 1 fields, saw 3\\nSkipping line 1483: expected 1 fields, saw 3\\nSkipping line 1484: expected 1 fields, saw 3\\nSkipping line 1485: expected 1 fields, saw 3\\nSkipping line 1493: expected 1 fields, saw 3\\nSkipping line 1494: expected 1 fields, saw 3\\nSkipping line 1497: expected 1 fields, saw 3\\nSkipping line 1504: expected 1 fields, saw 2\\nSkipping line 1508: expected 1 fields, saw 3\\nSkipping line 1512: expected 1 fields, saw 2\\nSkipping line 1516: expected 1 fields, saw 3\\nSkipping line 1520: expected 1 fields, saw 3\\nSkipping line 1523: expected 1 fields, saw 3\\nSkipping line 1525: expected 1 fields, saw 3\\nSkipping line 1535: expected 1 fields, saw 3\\nSkipping line 1540: expected 1 fields, saw 3\\nSkipping line 1541: expected 1 fields, saw 5\\nSkipping line 1542: expected 1 fields, saw 3\\nSkipping line 1547: expected 1 fields, saw 3\\nSkipping line 1548: expected 1 fields, saw 2\\nSkipping line 1551: expected 1 fields, saw 3\\nSkipping line 1552: expected 1 fields, saw 3\\nSkipping line 1553: expected 1 fields, saw 3\\nSkipping line 1555: expected 1 fields, saw 3\\nSkipping line 1562: expected 1 fields, saw 4\\nSkipping line 1563: expected 1 fields, saw 4\\nSkipping line 1566: expected 1 fields, saw 3\\nSkipping line 1569: expected 1 fields, saw 3\\nSkipping line 1575: expected 1 fields, saw 4\\nSkipping line 1576: expected 1 fields, saw 3\\nSkipping line 1577: expected 1 fields, saw 3\\nSkipping line 1578: expected 1 fields, saw 3\\nSkipping line 1581: expected 1 fields, saw 3\\nSkipping line 1583: expected 1 fields, saw 2\\nSkipping line 1584: expected 1 fields, saw 3\\nSkipping line 1590: expected 1 fields, saw 2\\nSkipping line 1592: expected 1 fields, saw 2\\nSkipping line 1602: expected 1 fields, saw 3\\nSkipping line 1610: expected 1 fields, saw 3\\nSkipping line 1612: expected 1 fields, saw 2\\nSkipping line 1614: expected 1 fields, saw 3\\nSkipping line 1620: expected 1 fields, saw 2\\nSkipping line 1622: expected 1 fields, saw 3\\nSkipping line 1623: expected 1 fields, saw 2\\nSkipping line 1627: expected 1 fields, saw 3\\nSkipping line 1630: expected 1 fields, saw 2\\nSkipping line 1631: expected 1 fields, saw 2\\nSkipping line 1640: expected 1 fields, saw 3\\nSkipping line 1645: expected 1 fields, saw 2\\nSkipping line 1648: expected 1 fields, saw 3\\nSkipping line 1649: expected 1 fields, saw 3\\nSkipping line 1650: expected 1 fields, saw 2\\nSkipping line 1651: expected 1 fields, saw 3\\nSkipping line 1655: expected 1 fields, saw 3\\nSkipping line 1658: expected 1 fields, saw 3\\nSkipping line 1661: expected 1 fields, saw 3\\nSkipping line 1665: expected 1 fields, saw 2\\nSkipping line 1667: expected 1 fields, saw 2\\nSkipping line 1671: expected 1 fields, saw 2\\nSkipping line 1675: expected 1 fields, saw 3\\nSkipping line 1676: expected 1 fields, saw 2\\n'\n"
     ]
    },
    {
     "ename": "UnicodeDecodeError",
     "evalue": "'utf-8' codec can't decode byte 0xe9 in position 16: invalid continuation byte",
     "output_type": "error",
     "traceback": [
      "\u001b[0;31m---------------------------------------------------------------------------\u001b[0m",
      "\u001b[0;31mUnicodeDecodeError\u001b[0m                        Traceback (most recent call last)",
      "\u001b[0;32mpandas/_libs/parsers.pyx\u001b[0m in \u001b[0;36mpandas._libs.parsers.TextReader._convert_tokens\u001b[0;34m()\u001b[0m\n",
      "\u001b[0;32mpandas/_libs/parsers.pyx\u001b[0m in \u001b[0;36mpandas._libs.parsers.TextReader._convert_with_dtype\u001b[0;34m()\u001b[0m\n",
      "\u001b[0;32mpandas/_libs/parsers.pyx\u001b[0m in \u001b[0;36mpandas._libs.parsers.TextReader._string_convert\u001b[0;34m()\u001b[0m\n",
      "\u001b[0;32mpandas/_libs/parsers.pyx\u001b[0m in \u001b[0;36mpandas._libs.parsers._string_box_utf8\u001b[0;34m()\u001b[0m\n",
      "\u001b[0;31mUnicodeDecodeError\u001b[0m: 'utf-8' codec can't decode byte 0xe9 in position 16: invalid continuation byte",
      "\nDuring handling of the above exception, another exception occurred:\n",
      "\u001b[0;31mUnicodeDecodeError\u001b[0m                        Traceback (most recent call last)",
      "\u001b[0;32m<ipython-input-5-e01abbe08eeb>\u001b[0m in \u001b[0;36m<module>\u001b[0;34m\u001b[0m\n\u001b[1;32m      2\u001b[0m \u001b[0;34m\u001b[0m\u001b[0m\n\u001b[1;32m      3\u001b[0m \u001b[0mdat\u001b[0m\u001b[0;34m=\u001b[0m\u001b[0mpd\u001b[0m\u001b[0;34m.\u001b[0m\u001b[0mread_csv\u001b[0m\u001b[0;34m(\u001b[0m\u001b[0;34m'u.data.csv'\u001b[0m\u001b[0;34m)\u001b[0m\u001b[0;34m\u001b[0m\u001b[0;34m\u001b[0m\u001b[0m\n\u001b[0;32m----> 4\u001b[0;31m \u001b[0mdf1\u001b[0m\u001b[0;34m=\u001b[0m\u001b[0mpd\u001b[0m\u001b[0;34m.\u001b[0m\u001b[0mread_csv\u001b[0m\u001b[0;34m(\u001b[0m\u001b[0;34m'u.item.csv'\u001b[0m\u001b[0;34m,\u001b[0m\u001b[0merror_bad_lines\u001b[0m\u001b[0;34m=\u001b[0m\u001b[0;32mFalse\u001b[0m\u001b[0;34m)\u001b[0m\u001b[0;34m\u001b[0m\u001b[0;34m\u001b[0m\u001b[0m\n\u001b[0m\u001b[1;32m      5\u001b[0m \u001b[0mmovie_choice\u001b[0m\u001b[0;34m=\u001b[0m\u001b[0mpd\u001b[0m\u001b[0;34m.\u001b[0m\u001b[0mDataFrame\u001b[0m\u001b[0;34m(\u001b[0m\u001b[0mdf1\u001b[0m\u001b[0;34m.\u001b[0m\u001b[0mloc\u001b[0m\u001b[0;34m[\u001b[0m\u001b[0;36m94\u001b[0m\u001b[0;34m,\u001b[0m\u001b[0;34m:\u001b[0m\u001b[0;34m:\u001b[0m\u001b[0;34m]\u001b[0m\u001b[0;34m)\u001b[0m\u001b[0;34m\u001b[0m\u001b[0;34m\u001b[0m\u001b[0m\n\u001b[1;32m      6\u001b[0m \u001b[0mmovie_choice\u001b[0m\u001b[0;34m.\u001b[0m\u001b[0mhead\u001b[0m\u001b[0;34m(\u001b[0m\u001b[0mn\u001b[0m\u001b[0;34m=\u001b[0m\u001b[0;36m10\u001b[0m\u001b[0;34m)\u001b[0m\u001b[0;34m\u001b[0m\u001b[0;34m\u001b[0m\u001b[0m\n",
      "\u001b[0;32m/srv/conda/envs/notebook/lib/python3.7/site-packages/pandas/io/parsers.py\u001b[0m in \u001b[0;36mparser_f\u001b[0;34m(filepath_or_buffer, sep, delimiter, header, names, index_col, usecols, squeeze, prefix, mangle_dupe_cols, dtype, engine, converters, true_values, false_values, skipinitialspace, skiprows, skipfooter, nrows, na_values, keep_default_na, na_filter, verbose, skip_blank_lines, parse_dates, infer_datetime_format, keep_date_col, date_parser, dayfirst, iterator, chunksize, compression, thousands, decimal, lineterminator, quotechar, quoting, doublequote, escapechar, comment, encoding, dialect, tupleize_cols, error_bad_lines, warn_bad_lines, delim_whitespace, low_memory, memory_map, float_precision)\u001b[0m\n\u001b[1;32m    700\u001b[0m                     skip_blank_lines=skip_blank_lines)\n\u001b[1;32m    701\u001b[0m \u001b[0;34m\u001b[0m\u001b[0m\n\u001b[0;32m--> 702\u001b[0;31m         \u001b[0;32mreturn\u001b[0m \u001b[0m_read\u001b[0m\u001b[0;34m(\u001b[0m\u001b[0mfilepath_or_buffer\u001b[0m\u001b[0;34m,\u001b[0m \u001b[0mkwds\u001b[0m\u001b[0;34m)\u001b[0m\u001b[0;34m\u001b[0m\u001b[0;34m\u001b[0m\u001b[0m\n\u001b[0m\u001b[1;32m    703\u001b[0m \u001b[0;34m\u001b[0m\u001b[0m\n\u001b[1;32m    704\u001b[0m     \u001b[0mparser_f\u001b[0m\u001b[0;34m.\u001b[0m\u001b[0m__name__\u001b[0m \u001b[0;34m=\u001b[0m \u001b[0mname\u001b[0m\u001b[0;34m\u001b[0m\u001b[0;34m\u001b[0m\u001b[0m\n",
      "\u001b[0;32m/srv/conda/envs/notebook/lib/python3.7/site-packages/pandas/io/parsers.py\u001b[0m in \u001b[0;36m_read\u001b[0;34m(filepath_or_buffer, kwds)\u001b[0m\n\u001b[1;32m    433\u001b[0m \u001b[0;34m\u001b[0m\u001b[0m\n\u001b[1;32m    434\u001b[0m     \u001b[0;32mtry\u001b[0m\u001b[0;34m:\u001b[0m\u001b[0;34m\u001b[0m\u001b[0;34m\u001b[0m\u001b[0m\n\u001b[0;32m--> 435\u001b[0;31m         \u001b[0mdata\u001b[0m \u001b[0;34m=\u001b[0m \u001b[0mparser\u001b[0m\u001b[0;34m.\u001b[0m\u001b[0mread\u001b[0m\u001b[0;34m(\u001b[0m\u001b[0mnrows\u001b[0m\u001b[0;34m)\u001b[0m\u001b[0;34m\u001b[0m\u001b[0;34m\u001b[0m\u001b[0m\n\u001b[0m\u001b[1;32m    436\u001b[0m     \u001b[0;32mfinally\u001b[0m\u001b[0;34m:\u001b[0m\u001b[0;34m\u001b[0m\u001b[0;34m\u001b[0m\u001b[0m\n\u001b[1;32m    437\u001b[0m         \u001b[0mparser\u001b[0m\u001b[0;34m.\u001b[0m\u001b[0mclose\u001b[0m\u001b[0;34m(\u001b[0m\u001b[0;34m)\u001b[0m\u001b[0;34m\u001b[0m\u001b[0;34m\u001b[0m\u001b[0m\n",
      "\u001b[0;32m/srv/conda/envs/notebook/lib/python3.7/site-packages/pandas/io/parsers.py\u001b[0m in \u001b[0;36mread\u001b[0;34m(self, nrows)\u001b[0m\n\u001b[1;32m   1137\u001b[0m     \u001b[0;32mdef\u001b[0m \u001b[0mread\u001b[0m\u001b[0;34m(\u001b[0m\u001b[0mself\u001b[0m\u001b[0;34m,\u001b[0m \u001b[0mnrows\u001b[0m\u001b[0;34m=\u001b[0m\u001b[0;32mNone\u001b[0m\u001b[0;34m)\u001b[0m\u001b[0;34m:\u001b[0m\u001b[0;34m\u001b[0m\u001b[0;34m\u001b[0m\u001b[0m\n\u001b[1;32m   1138\u001b[0m         \u001b[0mnrows\u001b[0m \u001b[0;34m=\u001b[0m \u001b[0m_validate_integer\u001b[0m\u001b[0;34m(\u001b[0m\u001b[0;34m'nrows'\u001b[0m\u001b[0;34m,\u001b[0m \u001b[0mnrows\u001b[0m\u001b[0;34m)\u001b[0m\u001b[0;34m\u001b[0m\u001b[0;34m\u001b[0m\u001b[0m\n\u001b[0;32m-> 1139\u001b[0;31m         \u001b[0mret\u001b[0m \u001b[0;34m=\u001b[0m \u001b[0mself\u001b[0m\u001b[0;34m.\u001b[0m\u001b[0m_engine\u001b[0m\u001b[0;34m.\u001b[0m\u001b[0mread\u001b[0m\u001b[0;34m(\u001b[0m\u001b[0mnrows\u001b[0m\u001b[0;34m)\u001b[0m\u001b[0;34m\u001b[0m\u001b[0;34m\u001b[0m\u001b[0m\n\u001b[0m\u001b[1;32m   1140\u001b[0m \u001b[0;34m\u001b[0m\u001b[0m\n\u001b[1;32m   1141\u001b[0m         \u001b[0;31m# May alter columns / col_dict\u001b[0m\u001b[0;34m\u001b[0m\u001b[0;34m\u001b[0m\u001b[0;34m\u001b[0m\u001b[0m\n",
      "\u001b[0;32m/srv/conda/envs/notebook/lib/python3.7/site-packages/pandas/io/parsers.py\u001b[0m in \u001b[0;36mread\u001b[0;34m(self, nrows)\u001b[0m\n\u001b[1;32m   1993\u001b[0m     \u001b[0;32mdef\u001b[0m \u001b[0mread\u001b[0m\u001b[0;34m(\u001b[0m\u001b[0mself\u001b[0m\u001b[0;34m,\u001b[0m \u001b[0mnrows\u001b[0m\u001b[0;34m=\u001b[0m\u001b[0;32mNone\u001b[0m\u001b[0;34m)\u001b[0m\u001b[0;34m:\u001b[0m\u001b[0;34m\u001b[0m\u001b[0;34m\u001b[0m\u001b[0m\n\u001b[1;32m   1994\u001b[0m         \u001b[0;32mtry\u001b[0m\u001b[0;34m:\u001b[0m\u001b[0;34m\u001b[0m\u001b[0;34m\u001b[0m\u001b[0m\n\u001b[0;32m-> 1995\u001b[0;31m             \u001b[0mdata\u001b[0m \u001b[0;34m=\u001b[0m \u001b[0mself\u001b[0m\u001b[0;34m.\u001b[0m\u001b[0m_reader\u001b[0m\u001b[0;34m.\u001b[0m\u001b[0mread\u001b[0m\u001b[0;34m(\u001b[0m\u001b[0mnrows\u001b[0m\u001b[0;34m)\u001b[0m\u001b[0;34m\u001b[0m\u001b[0;34m\u001b[0m\u001b[0m\n\u001b[0m\u001b[1;32m   1996\u001b[0m         \u001b[0;32mexcept\u001b[0m \u001b[0mStopIteration\u001b[0m\u001b[0;34m:\u001b[0m\u001b[0;34m\u001b[0m\u001b[0;34m\u001b[0m\u001b[0m\n\u001b[1;32m   1997\u001b[0m             \u001b[0;32mif\u001b[0m \u001b[0mself\u001b[0m\u001b[0;34m.\u001b[0m\u001b[0m_first_chunk\u001b[0m\u001b[0;34m:\u001b[0m\u001b[0;34m\u001b[0m\u001b[0;34m\u001b[0m\u001b[0m\n",
      "\u001b[0;32mpandas/_libs/parsers.pyx\u001b[0m in \u001b[0;36mpandas._libs.parsers.TextReader.read\u001b[0;34m()\u001b[0m\n",
      "\u001b[0;32mpandas/_libs/parsers.pyx\u001b[0m in \u001b[0;36mpandas._libs.parsers.TextReader._read_low_memory\u001b[0;34m()\u001b[0m\n",
      "\u001b[0;32mpandas/_libs/parsers.pyx\u001b[0m in \u001b[0;36mpandas._libs.parsers.TextReader._read_rows\u001b[0;34m()\u001b[0m\n",
      "\u001b[0;32mpandas/_libs/parsers.pyx\u001b[0m in \u001b[0;36mpandas._libs.parsers.TextReader._convert_column_data\u001b[0;34m()\u001b[0m\n",
      "\u001b[0;32mpandas/_libs/parsers.pyx\u001b[0m in \u001b[0;36mpandas._libs.parsers.TextReader._convert_tokens\u001b[0;34m()\u001b[0m\n",
      "\u001b[0;32mpandas/_libs/parsers.pyx\u001b[0m in \u001b[0;36mpandas._libs.parsers.TextReader._convert_with_dtype\u001b[0;34m()\u001b[0m\n",
      "\u001b[0;32mpandas/_libs/parsers.pyx\u001b[0m in \u001b[0;36mpandas._libs.parsers.TextReader._string_convert\u001b[0;34m()\u001b[0m\n",
      "\u001b[0;32mpandas/_libs/parsers.pyx\u001b[0m in \u001b[0;36mpandas._libs.parsers._string_box_utf8\u001b[0;34m()\u001b[0m\n",
      "\u001b[0;31mUnicodeDecodeError\u001b[0m: 'utf-8' codec can't decode byte 0xe9 in position 16: invalid continuation byte"
     ]
    }
   ],
   "source": [
    "import pandas as pd\n",
    "\n",
    "dat=pd.read_csv('u.data.csv')\n",
    "df1=pd.read_csv('u.item.csv',error_bad_lines=False)\n",
    "movie_choice=pd.DataFrame(df1.loc[94,::])\n",
    "movie_choice.head(n=10)\n",
    "df1.index+=1\n",
    "df1.head()\n",
    "movies_index=df1.MovieID\n",
    "genres=df1.columns\n",
    "genres=genres[5:]\n",
    "genre_values=df1.values\n",
    "dat200=pd.DataFrame(dat.loc[dat['UserID']==200])\n",
    "user200r=dat200.Rating\n",
    "user200i=dat200.ItemID\n",
    "dat200.head(n=10)\n",
    "\n",
    "colnames1= [\"UserID\", \"ItemID\", \"Rating\", \"Timestamp\"]\n",
    "colnames2 = ['MovieID', 'MovieTitle', 'ReleaseDate', 'VideoReleaseDate', 'IMDbURL', 'unknown', 'Action', 'Adventure', 'Animation', \"Children's\", 'Comedy', 'Crime', 'Documentary', 'Drama', 'Fantasy', 'Film-Noir', 'Horror', 'Musical', 'Mystery', 'Romance', 'Sci-Fi', 'Thriller', 'War', 'Western']"
   ]
  },
  {
   "cell_type": "code",
   "execution_count": null,
   "metadata": {},
   "outputs": [],
   "source": []
  }
 ],
 "metadata": {
  "kernelspec": {
   "display_name": "Python 3",
   "language": "python",
   "name": "python3"
  },
  "language_info": {
   "codemirror_mode": {
    "name": "ipython",
    "version": 3
   },
   "file_extension": ".py",
   "mimetype": "text/x-python",
   "name": "python",
   "nbconvert_exporter": "python",
   "pygments_lexer": "ipython3",
   "version": "3.7.3"
  }
 },
 "nbformat": 4,
 "nbformat_minor": 4
}
